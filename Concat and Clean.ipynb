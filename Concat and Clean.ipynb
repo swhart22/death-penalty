{
 "cells": [
  {
   "cell_type": "code",
   "execution_count": 49,
   "metadata": {
    "collapsed": false,
    "deletable": true,
    "editable": true
   },
   "outputs": [],
   "source": [
    "import numpy as np\n",
    "import pandas as pd\n",
    "import matplotlib as mlt\n",
    "\n",
    "#raw data from PDF via tabula\n",
    "raw = pd.read_csv('tabula-death_penalty.csv')\n",
    "\n",
    "#delete instances of multiple headers\n",
    "#(there are a lot in the raw data)\n",
    "df = raw[raw['SEX'] != \"SEX\"]\n",
    "\n",
    "#print the data without repeated headers \n",
    "no_headers = df.to_csv('death_penalty_no_headers.csv')\n",
    "\n",
    "#load in web database output:\n",
    "#1967—present\n",
    "edb = pd.read_csv('execution_database.csv')\n",
    "espy = pd.read_csv('death_penalty_no_headers.csv')\n"
   ]
  },
  {
   "cell_type": "code",
   "execution_count": 50,
   "metadata": {
    "collapsed": false,
    "deletable": true,
    "editable": true
   },
   "outputs": [],
   "source": [
    "#load in keys for in which states death \n",
    "#penalty is legal\n",
    "legal = pd.read_csv('legal.csv')\n",
    "\n",
    "edb['Date'] = pd.to_datetime(edb['Date'])\n",
    "\n",
    "#create new DF to cleanly concat two \n",
    "#datasets\n",
    "edb_new = pd.DataFrame()\n",
    "\n",
    "edb_new['NAME (Last First)'] = edb['Name']\n",
    "edb_new['RACE'] = edb['Race']\n",
    "edb_new['AGE'] = edb['Age']\n",
    "edb_new['SEX'] = edb['Sex']\n",
    "edb_new['CRIME'] = 'Missing'\n",
    "edb_new['METHOD'] = edb['Method']\n",
    "edb_new['DAY'] = edb['Date'].dt.day\n",
    "edb_new['MONTH'] = edb['Date'].dt.month\n",
    "edb_new['YEAR'] = edb['Date'].dt.year\n",
    "edb_new['STATE'] = edb['State']\n",
    "edb_new['DATE'] = edb['Date']\n",
    "\n",
    "\n",
    "mask = (edb_new['DATE'] > '12/31/2002')\n",
    "\n",
    "#make sure data from each for 2002 \n",
    "#is the same so dfs don't overlap\n",
    "#before concat\n",
    "\n",
    "mask2002 = (edb_new['YEAR'] == 2002)\n",
    "mask22002 = (espy['YEAR'] == 2002)\n",
    "\n",
    "two002 = edb_new.loc[mask2002]\n",
    "two2002 = espy.loc[mask22002]"
   ]
  },
  {
   "cell_type": "code",
   "execution_count": 51,
   "metadata": {
    "collapsed": false,
    "deletable": true,
    "editable": true
   },
   "outputs": [],
   "source": [
    "edb_new = edb_new.loc[mask]\n",
    "\n",
    "frames = [espy, edb_new]\n",
    "\n",
    "result = pd.concat(frames)\n",
    "\n",
    "result['executed'] = 'y'\n",
    "result['METHOD'].fillna(value='Missing')\n",
    "\n",
    "result.to_csv('concatenated.csv')"
   ]
  },
  {
   "cell_type": "code",
   "execution_count": 52,
   "metadata": {
    "collapsed": false
   },
   "outputs": [],
   "source": [
    "methodclean = result.loc[result['METHOD'] == '']\n",
    "methodclean.to_csv('method.csv')"
   ]
  },
  {
   "cell_type": "code",
   "execution_count": 53,
   "metadata": {
    "collapsed": false,
    "deletable": true,
    "editable": true
   },
   "outputs": [
    {
     "name": "stdout",
     "output_type": "stream",
     "text": [
      "Number of men and women executed in the 19th Century:\n",
      "M    5078\n",
      "F     175\n",
      "Name: SEX, dtype: int64\n",
      "Black                 2559\n",
      "White                 2048\n",
      "unknown                332\n",
      "Native Amer.           253\n",
      "Hispanic               115\n",
      "Asian - Pacific Is      36\n",
      "Name: RACE, dtype: int64\n"
     ]
    }
   ],
   "source": [
    "print 'Number of men and women executed in the 19th Century:' \n",
    "\n",
    "masknineteenth = (espy['YEAR'] >= 1800) & (espy['YEAR'] < 1900)\n",
    "\n",
    "nineteenth = espy.loc[masknineteenth]\n",
    "\n",
    "print nineteenth['SEX'].value_counts()\n",
    "print nineteenth['RACE'].value_counts()\n",
    "\n",
    "nineteenth.to_csv('nineteenth.csv')"
   ]
  },
  {
   "cell_type": "code",
   "execution_count": 54,
   "metadata": {
    "collapsed": false,
    "deletable": true,
    "editable": true
   },
   "outputs": [
    {
     "name": "stdout",
     "output_type": "stream",
     "text": [
      "  STATE  executed Death Penalty Legal? \n",
      "0    AK        12                    no\n",
      "1    AL       757                   yes\n"
     ]
    }
   ],
   "source": [
    "pivot = result.pivot_table(index=['STATE'],values='executed',aggfunc='count')\n",
    "\n",
    "#new df from pivot table \n",
    "statecounts = pd.DataFrame(pivot)\n",
    "\n",
    "statecounts.reset_index(inplace=True)\n",
    "\n",
    "new = pd.merge(statecounts, legal, on='STATE')\n",
    "\n",
    "print new.head(2)\n"
   ]
  },
  {
   "cell_type": "code",
   "execution_count": 55,
   "metadata": {
    "collapsed": false,
    "deletable": true,
    "editable": true
   },
   "outputs": [
    {
     "name": "stdout",
     "output_type": "stream",
     "text": [
      "Death Penalty Legal? \n",
      "m       1368\n",
      "no      3343\n",
      "yes    11136\n",
      "Name: executed, dtype: int64\n"
     ]
    }
   ],
   "source": [
    "pivot1 = new.pivot_table(index=['Death Penalty Legal? '],values='executed',aggfunc='sum')\n",
    "print pivot1"
   ]
  },
  {
   "cell_type": "code",
   "execution_count": 56,
   "metadata": {
    "collapsed": false,
    "deletable": true,
    "editable": true
   },
   "outputs": [],
   "source": [
    "crimes = result['CRIME'].value_counts()\n",
    "#crimes.to_csv('crimes.csv')\n",
    "\n",
    "methods = result['METHOD'].value_counts()\n",
    "methods.to_csv('methods.csv')\n",
    "\n",
    "cleanedcrimes = pd.read_csv('cleaned_crimes.csv')\n",
    "cleanedmethods = pd.read_csv('methodcleaning.csv')\n",
    "\n",
    "result = pd.merge(result, cleanedcrimes, on=\"CRIME\", how='outer')\n",
    "result = pd.merge(result, cleanedmethods, on=\"METHOD\", how='outer')\n",
    "\n",
    "result.to_csv('clean.csv')"
   ]
  },
  {
   "cell_type": "code",
   "execution_count": null,
   "metadata": {
    "collapsed": false,
    "deletable": true,
    "editable": true
   },
   "outputs": [],
   "source": []
  }
 ],
 "metadata": {
  "kernelspec": {
   "display_name": "Python 2",
   "language": "python",
   "name": "python2"
  },
  "language_info": {
   "codemirror_mode": {
    "name": "ipython",
    "version": 2
   },
   "file_extension": ".py",
   "mimetype": "text/x-python",
   "name": "python",
   "nbconvert_exporter": "python",
   "pygments_lexer": "ipython2",
   "version": "2.7.5"
  }
 },
 "nbformat": 4,
 "nbformat_minor": 0
}
